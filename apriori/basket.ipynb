{
 "metadata": {
  "language_info": {
   "codemirror_mode": {
    "name": "ipython",
    "version": 3
   },
   "file_extension": ".py",
   "mimetype": "text/x-python",
   "name": "python",
   "nbconvert_exporter": "python",
   "pygments_lexer": "ipython3",
   "version": "3.8.5-final"
  },
  "orig_nbformat": 2,
  "kernelspec": {
   "name": "python38564bitd18eaed16bf1474e8b9c0b5dbfed5e55",
   "display_name": "Python 3.8.5 64-bit",
   "language": "python"
  }
 },
 "nbformat": 4,
 "nbformat_minor": 2,
 "cells": [
  {
   "cell_type": "code",
   "execution_count": 34,
   "metadata": {},
   "outputs": [],
   "source": [
    "# based on https://stackabuse.com/association-rule-mining-via-apriori-algorithm-in-python/\n",
    "import numpy as np\n",
    "import matplotlib.pyplot as plt\n",
    "import pandas as pd\n",
    "from apyori import apriori"
   ]
  },
  {
   "cell_type": "code",
   "execution_count": 35,
   "metadata": {},
   "outputs": [],
   "source": [
    "store_data = pd.read_csv('data/store_data.csv', header=None)\n",
    "# print(store_data.head)"
   ]
  },
  {
   "cell_type": "code",
   "execution_count": 36,
   "metadata": {
    "tags": []
   },
   "outputs": [],
   "source": [
    "records = []\n",
    "for i in range(0, 7501):\n",
    "    records.append([str(store_data.values[i,j]) for j in range(0, 20)])\n"
   ]
  },
  {
   "cell_type": "code",
   "execution_count": 37,
   "metadata": {},
   "outputs": [],
   "source": [
    "association_rules = apriori(records, min_support=0.0045, min_confidence=0.2, min_lift=3, min_length=2)\n",
    "association_results = list(association_rules)"
   ]
  },
  {
   "cell_type": "code",
   "execution_count": 38,
   "metadata": {},
   "outputs": [
    {
     "output_type": "stream",
     "name": "stdout",
     "text": [
      "number of rules ->  48\n"
     ]
    }
   ],
   "source": [
    "print(\"number of rules -> \", len(association_results))\n",
    "# print(association_results[0])"
   ]
  },
  {
   "cell_type": "code",
   "execution_count": 39,
   "metadata": {},
   "outputs": [
    {
     "output_type": "stream",
     "name": "stdout",
     "text": [
      "Rule: light cream -> chicken\nSupport: 0.004532728969470737\nConfidence: 0.29059829059829057\nLift: 4.84395061728395\n=====================================\nRule: mushroom cream sauce -> escalope\nSupport: 0.005732568990801226\nConfidence: 0.3006993006993007\nLift: 3.790832696715049\n=====================================\nRule: pasta -> escalope\nSupport: 0.005865884548726837\nConfidence: 0.3728813559322034\nLift: 4.700811850163794\n=====================================\nRule: ground beef -> herb & pepper\nSupport: 0.015997866951073192\nConfidence: 0.3234501347708895\nLift: 3.2919938411349285\n=====================================\nRule: tomato sauce -> ground beef\nSupport: 0.005332622317024397\nConfidence: 0.3773584905660377\nLift: 3.840659481324083\n=====================================\nRule: olive oil -> whole wheat pasta\nSupport: 0.007998933475536596\nConfidence: 0.2714932126696833\nLift: 4.122410097642296\n=====================================\nRule: pasta -> shrimp\nSupport: 0.005065991201173177\nConfidence: 0.3220338983050847\nLift: 4.506672147735896\n=====================================\nRule: light cream -> chicken\nSupport: 0.004532728969470737\nConfidence: 0.29059829059829057\nLift: 4.84395061728395\n=====================================\nRule: shrimp -> chocolate\nSupport: 0.005332622317024397\nConfidence: 0.23255813953488375\nLift: 3.2545123221103784\n=====================================\nRule: ground beef -> spaghetti\nSupport: 0.004799360085321957\nConfidence: 0.5714285714285714\nLift: 3.2819951870487856\n=====================================\nRule: mushroom cream sauce -> nan\nSupport: 0.005732568990801226\nConfidence: 0.3006993006993007\nLift: 3.790832696715049\n=====================================\nRule: pasta -> nan\nSupport: 0.005865884548726837\nConfidence: 0.3728813559322034\nLift: 4.700811850163794\n=====================================\nRule: ground beef -> spaghetti\nSupport: 0.008665511265164644\nConfidence: 0.31100478468899523\nLift: 3.165328208890303\n=====================================\nRule: milk -> olive oil\nSupport: 0.004799360085321957\nConfidence: 0.20338983050847456\nLift: 3.088314005352364\n=====================================\nRule: mineral water -> shrimp\nSupport: 0.007199040127982935\nConfidence: 0.30508474576271183\nLift: 3.200616332819722\n=====================================\nRule: spaghetti -> olive oil\nSupport: 0.005732568990801226\nConfidence: 0.20574162679425836\nLift: 3.1240241752707125\n=====================================\nRule: shrimp -> spaghetti\nSupport: 0.005999200106652446\nConfidence: 0.21531100478468898\nLift: 3.0131489680782684\n=====================================\nRule: tomatoes -> spaghetti\nSupport: 0.006665777896280496\nConfidence: 0.23923444976076558\nLift: 3.4980460188216425\n=====================================\nRule: grated cheese -> ground beef\nSupport: 0.005332622317024397\nConfidence: 0.3225806451612903\nLift: 3.283144395325426\n=====================================\nRule: mineral water -> ground beef\nSupport: 0.006665777896280496\nConfidence: 0.39062500000000006\nLift: 3.975682666214383\n=====================================\nRule: ground beef -> herb & pepper\nSupport: 0.015997866951073192\nConfidence: 0.3234501347708895\nLift: 3.2919938411349285\n=====================================\nRule: ground beef -> spaghetti\nSupport: 0.006399146780429276\nConfidence: 0.3934426229508197\nLift: 4.004359721511667\n=====================================\nRule: milk -> ground beef\nSupport: 0.004932675643247567\nConfidence: 0.22424242424242427\nLift: 3.40494417862839\n=====================================\nRule: tomato sauce -> ground beef\nSupport: 0.005332622317024397\nConfidence: 0.3773584905660377\nLift: 3.840659481324083\n=====================================\nRule: shrimp -> ground beef\nSupport: 0.005999200106652446\nConfidence: 0.5232558139534884\nLift: 3.005315360233627\n=====================================\nRule: milk -> spaghetti\nSupport: 0.007199040127982935\nConfidence: 0.20300751879699247\nLift: 3.0825089038385434\n=====================================\nRule: mineral water -> olive oil\nSupport: 0.005199306759098787\nConfidence: 0.22543352601156072\nLift: 3.4230301186492245\n=====================================\nRule: olive oil -> whole wheat pasta\nSupport: 0.007998933475536596\nConfidence: 0.2714932126696833\nLift: 4.13077198425009\n=====================================\nRule: pasta -> shrimp\nSupport: 0.005065991201173177\nConfidence: 0.3220338983050847\nLift: 4.515095833993347\n=====================================\nRule: pancakes -> spaghetti\nSupport: 0.005065991201173177\nConfidence: 0.20105820105820105\nLift: 3.0529100529100526\n=====================================\nRule: shrimp -> chocolate\nSupport: 0.005332622317024397\nConfidence: 0.23255813953488375\nLift: 3.260595522712454\n=====================================\nRule: ground beef -> spaghetti\nSupport: 0.004799360085321957\nConfidence: 0.5714285714285714\nLift: 3.2819951870487856\n=====================================\nRule: ground beef -> spaghetti\nSupport: 0.008665511265164644\nConfidence: 0.31100478468899523\nLift: 3.165328208890303\n=====================================\nRule: mineral water -> milk\nSupport: 0.004532728969470737\nConfidence: 0.28813559322033894\nLift: 3.0228043143297376\n=====================================\nRule: milk -> olive oil\nSupport: 0.004799360085321957\nConfidence: 0.20338983050847456\nLift: 3.094578333963626\n=====================================\nRule: mineral water -> shrimp\nSupport: 0.007199040127982935\nConfidence: 0.30508474576271183\nLift: 3.200616332819722\n=====================================\nRule: spaghetti -> olive oil\nSupport: 0.005732568990801226\nConfidence: 0.20574162679425836\nLift: 3.1303609383037156\n=====================================\nRule: shrimp -> spaghetti\nSupport: 0.005999200106652446\nConfidence: 0.21531100478468898\nLift: 3.0187810222242093\n=====================================\nRule: tomatoes -> spaghetti\nSupport: 0.006665777896280496\nConfidence: 0.23923444976076558\nLift: 3.4980460188216425\n=====================================\nRule: grated cheese -> ground beef\nSupport: 0.005332622317024397\nConfidence: 0.3225806451612903\nLift: 3.283144395325426\n=====================================\nRule: mineral water -> ground beef\nSupport: 0.006665777896280496\nConfidence: 0.39062500000000006\nLift: 3.975682666214383\n=====================================\nRule: ground beef -> spaghetti\nSupport: 0.006399146780429276\nConfidence: 0.3934426229508197\nLift: 4.004359721511667\n=====================================\nRule: milk -> ground beef\nSupport: 0.004932675643247567\nConfidence: 0.22424242424242427\nLift: 3.4118507591124225\n=====================================\nRule: shrimp -> ground beef\nSupport: 0.005999200106652446\nConfidence: 0.5232558139534884\nLift: 3.005315360233627\n=====================================\nRule: milk -> spaghetti\nSupport: 0.007199040127982935\nConfidence: 0.20300751879699247\nLift: 3.088761457396025\n=====================================\nRule: mineral water -> olive oil\nSupport: 0.005199306759098787\nConfidence: 0.22543352601156072\nLift: 3.429973384609973\n=====================================\nRule: pancakes -> spaghetti\nSupport: 0.005065991201173177\nConfidence: 0.20105820105820105\nLift: 3.0591025682303568\n=====================================\nRule: nan -> frozen vegetables\nSupport: 0.004532728969470737\nConfidence: 0.28813559322033894\nLift: 3.0228043143297376\n=====================================\n"
     ]
    }
   ],
   "source": [
    "for item in association_results:\n",
    "\n",
    "    # first index of the inner list\n",
    "    # Contains base item and add item\n",
    "    pair = item[0] \n",
    "    items = [x for x in pair]\n",
    "    print(\"Rule: \" + items[0] + \" -> \" + items[1])\n",
    "\n",
    "    #second index of the inner list\n",
    "    print(\"Support: \" + str(item[1]))\n",
    "\n",
    "    #third index of the list located at 0th\n",
    "    #of the third index of the inner list\n",
    "\n",
    "    print(\"Confidence: \" + str(item[2][0][2]))\n",
    "    print(\"Lift: \" + str(item[2][0][3]))\n",
    "    print(\"=====================================\")"
   ]
  }
 ]
}