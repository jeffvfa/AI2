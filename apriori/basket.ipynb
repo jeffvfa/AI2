{
 "metadata": {
  "language_info": {
   "codemirror_mode": {
    "name": "ipython",
    "version": 3
   },
   "file_extension": ".py",
   "mimetype": "text/x-python",
   "name": "python",
   "nbconvert_exporter": "python",
   "pygments_lexer": "ipython3",
   "version": "3.8.5-final"
  },
  "orig_nbformat": 2,
  "kernelspec": {
   "name": "python38564bitd18eaed16bf1474e8b9c0b5dbfed5e55",
   "display_name": "Python 3.8.5 64-bit",
   "language": "python"
  }
 },
 "nbformat": 4,
 "nbformat_minor": 2,
 "cells": [
  {
   "cell_type": "code",
   "execution_count": 75,
   "metadata": {},
   "outputs": [],
   "source": [
    "# based on https://stackabuse.com/association-rule-mining-via-apriori-algorithm-in-python/\n",
    "import numpy as np\n",
    "import matplotlib.pyplot as plt\n",
    "import pandas as pd\n",
    "from apyori import apriori"
   ]
  },
  {
   "cell_type": "code",
   "execution_count": 76,
   "metadata": {},
   "outputs": [],
   "source": [
    "store_data = pd.read_csv('data/store_data.csv', header=None)\n",
    "# print(store_data.head)"
   ]
  },
  {
   "cell_type": "code",
   "execution_count": 77,
   "metadata": {
    "tags": [
     "outputPrepend"
    ]
   },
   "outputs": [
    {
     "output_type": "stream",
     "name": "stdout",
     "text": [
      "'burgers', 'grated cheese', 'frozen vegetables', 'spaghetti', 'meatballs', 'butter', 'french fries', 'nan', 'nan', 'nan', 'nan', 'nan', 'nan', 'nan', 'nan', 'nan', 'nan', 'nan', 'nan', 'nan'], ['cookies', 'nan', 'nan', 'nan', 'nan', 'nan', 'nan', 'nan', 'nan', 'nan', 'nan', 'nan', 'nan', 'nan', 'nan', 'nan', 'nan', 'nan', 'nan', 'nan'], ['green tea', 'chocolate', 'cookies', 'fresh bread', 'nan', 'nan', 'nan', 'nan', 'nan', 'nan', 'nan', 'nan', 'nan', 'nan', 'nan', 'nan', 'nan', 'nan', 'nan', 'nan'], ['grated cheese', 'nan', 'nan', 'nan', 'nan', 'nan', 'nan', 'nan', 'nan', 'nan', 'nan', 'nan', 'nan', 'nan', 'nan', 'nan', 'nan', 'nan', 'nan', 'nan'], ['salt', 'nan', 'nan', 'nan', 'nan', 'nan', 'nan', 'nan', 'nan', 'nan', 'nan', 'nan', 'nan', 'nan', 'nan', 'nan', 'nan', 'nan', 'nan', 'nan'], ['cookies', 'nan', 'nan', 'nan', 'nan', 'nan', 'nan', 'nan', 'nan', 'nan', 'nan', 'nan', 'nan', 'nan', 'nan', 'nan', 'nan', 'nan', 'nan', 'nan'], ['eggs', 'french fries', 'nan', 'nan', 'nan', 'nan', 'nan', 'nan', 'nan', 'nan', 'nan', 'nan', 'nan', 'nan', 'nan', 'nan', 'nan', 'nan', 'nan', 'nan'], ['cake', 'french fries', 'brownies', 'nan', 'nan', 'nan', 'nan', 'nan', 'nan', 'nan', 'nan', 'nan', 'nan', 'nan', 'nan', 'nan', 'nan', 'nan', 'nan', 'nan'], ['champagne', 'nan', 'nan', 'nan', 'nan', 'nan', 'nan', 'nan', 'nan', 'nan', 'nan', 'nan', 'nan', 'nan', 'nan', 'nan', 'nan', 'nan', 'nan', 'nan'], ['champagne', 'nan', 'nan', 'nan', 'nan', 'nan', 'nan', 'nan', 'nan', 'nan', 'nan', 'nan', 'nan', 'nan', 'nan', 'nan', 'nan', 'nan', 'nan', 'nan'], ['green grapes', 'chocolate', 'french fries', 'escalope', 'nan', 'nan', 'nan', 'nan', 'nan', 'nan', 'nan', 'nan', 'nan', 'nan', 'nan', 'nan', 'nan', 'nan', 'nan', 'nan'], ['eggs', 'nan', 'nan', 'nan', 'nan', 'nan', 'nan', 'nan', 'nan', 'nan', 'nan', 'nan', 'nan', 'nan', 'nan', 'nan', 'nan', 'nan', 'nan', 'nan'], ['green beans', 'nan', 'nan', 'nan', 'nan', 'nan', 'nan', 'nan', 'nan', 'nan', 'nan', 'nan', 'nan', 'nan', 'nan', 'nan', 'nan', 'nan', 'nan', 'nan'], ['cookies', 'nan', 'nan', 'nan', 'nan', 'nan', 'nan', 'nan', 'nan', 'nan', 'nan', 'nan', 'nan', 'nan', 'nan', 'nan', 'nan', 'nan', 'nan', 'nan'], ['mineral water', 'extra dark chocolate', 'chocolate', 'low fat yogurt', 'nan', 'nan', 'nan', 'nan', 'nan', 'nan', 'nan', 'nan', 'nan', 'nan', 'nan', 'nan', 'nan', 'nan', 'nan', 'nan'], ['mineral water', 'avocado', 'nan', 'nan', 'nan', 'nan', 'nan', 'nan', 'nan', 'nan', 'nan', 'nan', 'nan', 'nan', 'nan', 'nan', 'nan', 'nan', 'nan', 'nan'], ['frozen vegetables', 'mineral water', 'chicken', 'fromage blanc', 'eggs', 'green tea', 'nan', 'nan', 'nan', 'nan', 'nan', 'nan', 'nan', 'nan', 'nan', 'nan', 'nan', 'nan', 'nan', 'nan'], ['shrimp', 'pasta', 'soup', 'almonds', 'chocolate', 'fresh bread', 'nan', 'nan', 'nan', 'nan', 'nan', 'nan', 'nan', 'nan', 'nan', 'nan', 'nan', 'nan', 'nan', 'nan'], ['cookies', 'nan', 'nan', 'nan', 'nan', 'nan', 'nan', 'nan', 'nan', 'nan', 'nan', 'nan', 'nan', 'nan', 'nan', 'nan', 'nan', 'nan', 'nan', 'nan'], ['eggs', 'cookies', 'nan', 'nan', 'nan', 'nan', 'nan', 'nan', 'nan', 'nan', 'nan', 'nan', 'nan', 'nan', 'nan', 'nan', 'nan', 'nan', 'nan', 'nan'], ['tomatoes', 'mineral water', 'eggs', 'chicken', 'extra dark chocolate', 'nan', 'nan', 'nan', 'nan', 'nan', 'nan', 'nan', 'nan', 'nan', 'nan', 'nan', 'nan', 'nan', 'nan', 'nan'], ['grated cheese', 'mineral water', 'olive oil', 'escalope', 'white wine', 'nan', 'nan', 'nan', 'nan', 'nan', 'nan', 'nan', 'nan', 'nan', 'nan', 'nan', 'nan', 'nan', 'nan', 'nan'], ['cookies', 'nan', 'nan', 'nan', 'nan', 'nan', 'nan', 'nan', 'nan', 'nan', 'nan', 'nan', 'nan', 'nan', 'nan', 'nan', 'nan', 'nan', 'nan', 'nan'], ['cooking oil', 'toothpaste', 'low fat yogurt', 'nan', 'nan', 'nan', 'nan', 'nan', 'nan', 'nan', 'nan', 'nan', 'nan', 'nan', 'nan', 'nan', 'nan', 'nan', 'nan', 'nan'], ['chocolate', 'ground beef', 'butter', 'yogurt cake', 'nan', 'nan', 'nan', 'nan', 'nan', 'nan', 'nan', 'nan', 'nan', 'nan', 'nan', 'nan', 'nan', 'nan', 'nan', 'nan'], ['ham', 'ground beef', 'pepper', 'tomato sauce', 'spaghetti', 'mineral water', 'light cream', 'french fries', 'melons', 'nan', 'nan', 'nan', 'nan', 'nan', 'nan', 'nan', 'nan', 'nan', 'nan', 'nan'], ['ground beef', 'spaghetti', 'mineral water', 'light cream', 'nan', 'nan', 'nan', 'nan', 'nan', 'nan', 'nan', 'nan', 'nan', 'nan', 'nan', 'nan', 'nan', 'nan', 'nan', 'nan'], ['fresh tuna', 'parmesan cheese', 'fresh bread', 'nan', 'nan', 'nan', 'nan', 'nan', 'nan', 'nan', 'nan', 'nan', 'nan', 'nan', 'nan', 'nan', 'nan', 'nan', 'nan', 'nan'], ['low fat yogurt', 'nan', 'nan', 'nan', 'nan', 'nan', 'nan', 'nan', 'nan', 'nan', 'nan', 'nan', 'nan', 'nan', 'nan', 'nan', 'nan', 'nan', 'nan', 'nan'], ['olive oil', 'eggs', 'cake', 'chocolate', 'nan', 'nan', 'nan', 'nan', 'nan', 'nan', 'nan', 'nan', 'nan', 'nan', 'nan', 'nan', 'nan', 'nan', 'nan', 'nan'], ['chicken', 'soda', 'nan', 'nan', 'nan', 'nan', 'nan', 'nan', 'nan', 'nan', 'nan', 'nan', 'nan', 'nan', 'nan', 'nan', 'nan', 'nan', 'nan', 'nan'], ['shrimp', 'pasta', 'ground beef', 'meatballs', 'oil', 'nan', 'nan', 'nan', 'nan', 'nan', 'nan', 'nan', 'nan', 'nan', 'nan', 'nan', 'nan', 'nan', 'nan', 'nan'], ['tomatoes', 'spaghetti', 'mineral water', 'pancakes', 'cake', 'rice', 'chili', 'salt', 'nan', 'nan', 'nan', 'nan', 'nan', 'nan', 'nan', 'nan', 'nan', 'nan', 'nan', 'nan'], ['herb & pepper', 'ground beef', 'spaghetti', 'olive oil', 'eggs', 'escalope', 'nan', 'nan', 'nan', 'nan', 'nan', 'nan', 'nan', 'nan', 'nan', 'nan', 'nan', 'nan', 'nan', 'nan'], ['milk', 'chicken', 'cake', 'eggplant', 'frozen smoothie', 'green tea', 'nan', 'nan', 'nan', 'nan', 'nan', 'nan', 'nan', 'nan', 'nan', 'nan', 'nan', 'nan', 'nan', 'nan'], ['burgers', 'eggs', 'escalope', 'nan', 'nan', 'nan', 'nan', 'nan', 'nan', 'nan', 'nan', 'nan', 'nan', 'nan', 'nan', 'nan', 'nan', 'nan', 'nan', 'nan'], ['fromage blanc', 'nan', 'nan', 'nan', 'nan', 'nan', 'nan', 'nan', 'nan', 'nan', 'nan', 'nan', 'nan', 'nan', 'nan', 'nan', 'nan', 'nan', 'nan', 'nan'], ['pancakes', 'champagne', 'nan', 'nan', 'nan', 'nan', 'nan', 'nan', 'nan', 'nan', 'nan', 'nan', 'nan', 'nan', 'nan', 'nan', 'nan', 'nan', 'nan', 'nan'], ['chocolate', 'escalope', 'energy drink', 'nan', 'nan', 'nan', 'nan', 'nan', 'nan', 'nan', 'nan', 'nan', 'nan', 'nan', 'nan', 'nan', 'nan', 'nan', 'nan', 'nan'], ['low fat yogurt', 'nan', 'nan', 'nan', 'nan', 'nan', 'nan', 'nan', 'nan', 'nan', 'nan', 'nan', 'nan', 'nan', 'nan', 'nan', 'nan', 'nan', 'nan', 'nan'], ['cookies', 'nan', 'nan', 'nan', 'nan', 'nan', 'nan', 'nan', 'nan', 'nan', 'nan', 'nan', 'nan', 'nan', 'nan', 'nan', 'nan', 'nan', 'nan', 'nan'], ['soup', 'milk', 'nan', 'nan', 'nan', 'nan', 'nan', 'nan', 'nan', 'nan', 'nan', 'nan', 'nan', 'nan', 'nan', 'nan', 'nan', 'nan', 'nan', 'nan'], ['tomatoes', 'nan', 'nan', 'nan', 'nan', 'nan', 'nan', 'nan', 'nan', 'nan', 'nan', 'nan', 'nan', 'nan', 'nan', 'nan', 'nan', 'nan', 'nan', 'nan'], ['energy bar', 'eggs', 'nan', 'nan', 'nan', 'nan', 'nan', 'nan', 'nan', 'nan', 'nan', 'nan', 'nan', 'nan', 'nan', 'nan', 'nan', 'nan', 'nan', 'nan'], ['french fries', 'frozen smoothie', 'cottage cheese', 'nan', 'nan', 'nan', 'nan', 'nan', 'nan', 'nan', 'nan', 'nan', 'nan', 'nan', 'nan', 'nan', 'nan', 'nan', 'nan', 'nan'], ['low fat yogurt', 'nan', 'nan', 'nan', 'nan', 'nan', 'nan', 'nan', 'nan', 'nan', 'nan', 'nan', 'nan', 'nan', 'nan', 'nan', 'nan', 'nan', 'nan', 'nan'], ['turkey', 'ham', 'grated cheese', 'parmesan cheese', 'ground beef', 'olive oil', 'pancakes', 'nan', 'nan', 'nan', 'nan', 'nan', 'nan', 'nan', 'nan', 'nan', 'nan', 'nan', 'nan', 'nan'], ['frozen vegetables', 'mineral water', 'honey', 'cottage cheese', 'fresh bread', 'nan', 'nan', 'nan', 'nan', 'nan', 'nan', 'nan', 'nan', 'nan', 'nan', 'nan', 'nan', 'nan', 'nan', 'nan'], ['grated cheese', 'mineral water', 'chicken', 'nonfat milk', 'whole wheat rice', 'chocolate bread', 'nan', 'nan', 'nan', 'nan', 'nan', 'nan', 'nan', 'nan', 'nan', 'nan', 'nan', 'nan', 'nan', 'nan'], ['chocolate', 'frozen vegetables', 'spaghetti', 'green tea', 'nan', 'nan', 'nan', 'nan', 'nan', 'nan', 'nan', 'nan', 'nan', 'nan', 'nan', 'nan', 'nan', 'nan', 'nan', 'nan'], ['chocolate', 'grated cheese', 'frozen vegetables', 'chutney', 'cereals', 'nan', 'nan', 'nan', 'nan', 'nan', 'nan', 'nan', 'nan', 'nan', 'nan', 'nan', 'nan', 'nan', 'nan', 'nan'], ['eggs', 'eggplant', 'french fries', 'low fat yogurt', 'nan', 'nan', 'nan', 'nan', 'nan', 'nan', 'nan', 'nan', 'nan', 'nan', 'nan', 'nan', 'nan', 'nan', 'nan', 'nan'], ['gums', 'frozen smoothie', 'low fat yogurt', 'nan', 'nan', 'nan', 'nan', 'nan', 'nan', 'nan', 'nan', 'nan', 'nan', 'nan', 'nan', 'nan', 'nan', 'nan', 'nan', 'nan'], ['burgers', 'herb & pepper', 'shrimp', 'pasta', 'milk', 'whole wheat rice', 'cooking oil', 'french fries', 'cottage cheese', 'tomato juice', 'fresh bread', 'mint', 'nan', 'nan', 'nan', 'nan', 'nan', 'nan', 'nan', 'nan'], ['burgers', 'frozen vegetables', 'flax seed', 'french fries', 'yogurt cake', 'nan', 'nan', 'nan', 'nan', 'nan', 'nan', 'nan', 'nan', 'nan', 'nan', 'nan', 'nan', 'nan', 'nan', 'nan'], ['green tea', 'nan', 'nan', 'nan', 'nan', 'nan', 'nan', 'nan', 'nan', 'nan', 'nan', 'nan', 'nan', 'nan', 'nan', 'nan', 'nan', 'nan', 'nan', 'nan'], ['flax seed', 'green tea', 'nan', 'nan', 'nan', 'nan', 'nan', 'nan', 'nan', 'nan', 'nan', 'nan', 'nan', 'nan', 'nan', 'nan', 'nan', 'nan', 'nan', 'nan'], ['milk', 'nan', 'nan', 'nan', 'nan', 'nan', 'nan', 'nan', 'nan', 'nan', 'nan', 'nan', 'nan', 'nan', 'nan', 'nan', 'nan', 'nan', 'nan', 'nan'], ['eggs', 'mushroom cream sauce', 'nan', 'nan', 'nan', 'nan', 'nan', 'nan', 'nan', 'nan', 'nan', 'nan', 'nan', 'nan', 'nan', 'nan', 'nan', 'nan', 'nan', 'nan'], ['mineral water', 'cake', 'nan', 'nan', 'nan', 'nan', 'nan', 'nan', 'nan', 'nan', 'nan', 'nan', 'nan', 'nan', 'nan', 'nan', 'nan', 'nan', 'nan', 'nan'], ['whole wheat pasta', 'spaghetti', 'mineral water', 'milk', 'olive oil', 'salmon', 'cooking oil', 'low fat yogurt', 'zucchini', 'nan', 'nan', 'nan', 'nan', 'nan', 'nan', 'nan', 'nan', 'nan', 'nan', 'nan'], ['shrimp', 'pasta', 'low fat yogurt', 'nan', 'nan', 'nan', 'nan', 'nan', 'nan', 'nan', 'nan', 'nan', 'nan', 'nan', 'nan', 'nan', 'nan', 'nan', 'nan', 'nan'], ['ham', 'ground beef', 'spaghetti', 'mineral water', 'whole wheat rice', 'cake', 'low fat yogurt', 'nan', 'nan', 'nan', 'nan', 'nan', 'nan', 'nan', 'nan', 'nan', 'nan', 'nan', 'nan', 'nan'], ['tomatoes', 'almonds', 'eggs', 'cookies', 'green tea', 'nan', 'nan', 'nan', 'nan', 'nan', 'nan', 'nan', 'nan', 'nan', 'nan', 'nan', 'nan', 'nan', 'nan', 'nan'], ['parmesan cheese', 'whole wheat pasta', 'brownies', 'nan', 'nan', 'nan', 'nan', 'nan', 'nan', 'nan', 'nan', 'nan', 'nan', 'nan', 'nan', 'nan', 'nan', 'nan', 'nan', 'nan'], ['cookies', 'nan', 'nan', 'nan', 'nan', 'nan', 'nan', 'nan', 'nan', 'nan', 'nan', 'nan', 'nan', 'nan', 'nan', 'nan', 'nan', 'nan', 'nan', 'nan'], ['burgers', 'parmesan cheese', 'mineral water', 'melons', 'nan', 'nan', 'nan', 'nan', 'nan', 'nan', 'nan', 'nan', 'nan', 'nan', 'nan', 'nan', 'nan', 'nan', 'nan', 'nan'], ['melons', 'nan', 'nan', 'nan', 'nan', 'nan', 'nan', 'nan', 'nan', 'nan', 'nan', 'nan', 'nan', 'nan', 'nan', 'nan', 'nan', 'nan', 'nan', 'nan'], ['chocolate', 'shrimp', 'pasta', 'ground beef', 'nan', 'nan', 'nan', 'nan', 'nan', 'nan', 'nan', 'nan', 'nan', 'nan', 'nan', 'nan', 'nan', 'nan', 'nan', 'nan'], ['burgers', 'shrimp', 'pasta', 'parmesan cheese', 'soup', 'eggs', 'whole wheat rice', 'escalope', 'nan', 'nan', 'nan', 'nan', 'nan', 'nan', 'nan', 'nan', 'nan', 'nan', 'nan', 'nan'], ['dessert wine', 'frozen vegetables', 'milk', 'muffins', 'eggs', 'nan', 'nan', 'nan', 'nan', 'nan', 'nan', 'nan', 'nan', 'nan', 'nan', 'nan', 'nan', 'nan', 'nan', 'nan'], ['ground beef', 'chicken', 'cereals', 'nan', 'nan', 'nan', 'nan', 'nan', 'nan', 'nan', 'nan', 'nan', 'nan', 'nan', 'nan', 'nan', 'nan', 'nan', 'nan', 'nan'], ['almonds', 'nan', 'nan', 'nan', 'nan', 'nan', 'nan', 'nan', 'nan', 'nan', 'nan', 'nan', 'nan', 'nan', 'nan', 'nan', 'nan', 'nan', 'nan', 'nan'], ['grated cheese', 'spaghetti', 'almonds', 'honey', 'nan', 'nan', 'nan', 'nan', 'nan', 'nan', 'nan', 'nan', 'nan', 'nan', 'nan', 'nan', 'nan', 'nan', 'nan', 'nan'], ['frozen vegetables', 'meatballs', 'nan', 'nan', 'nan', 'nan', 'nan', 'nan', 'nan', 'nan', 'nan', 'nan', 'nan', 'nan', 'nan', 'nan', 'nan', 'nan', 'nan', 'nan'], ['cider', 'eggs', 'nan', 'nan', 'nan', 'nan', 'nan', 'nan', 'nan', 'nan', 'nan', 'nan', 'nan', 'nan', 'nan', 'nan', 'nan', 'nan', 'nan', 'nan'], ['cider', 'nan', 'nan', 'nan', 'nan', 'nan', 'nan', 'nan', 'nan', 'nan', 'nan', 'nan', 'nan', 'nan', 'nan', 'nan', 'nan', 'nan', 'nan', 'nan'], ['burgers', 'ham', 'parmesan cheese', 'ground beef', 'spaghetti', 'eggs', 'cookies', 'nan', 'nan', 'nan', 'nan', 'nan', 'nan', 'nan', 'nan', 'nan', 'nan', 'nan', 'nan', 'nan'], ['red wine', 'honey', 'rice', 'chocolate', 'french fries', 'brownies', 'body spray', 'light mayo', 'nan', 'nan', 'nan', 'nan', 'nan', 'nan', 'nan', 'nan', 'nan', 'nan', 'nan', 'nan'], ['fromage blanc', 'escalope', 'pasta', 'mushroom cream sauce', 'nan', 'nan', 'nan', 'nan', 'nan', 'nan', 'nan', 'nan', 'nan', 'nan', 'nan', 'nan', 'nan', 'nan', 'nan', 'nan'], ['frozen vegetables', 'tomatoes', 'ground beef', 'spaghetti', 'mineral water', 'fromage blanc', 'pancakes', 'whole wheat rice', 'blueberries', 'cereals', 'escalope', 'mayonnaise', 'nan', 'nan', 'nan', 'nan', 'nan', 'nan', 'nan', 'nan'], ['burgers', 'eggs', 'cake', 'cereals', 'nan', 'nan', 'nan', 'nan', 'nan', 'nan', 'nan', 'nan', 'nan', 'nan', 'nan', 'nan', 'nan', 'nan', 'nan', 'nan'], ['eggs', 'nan', 'nan', 'nan', 'nan', 'nan', 'nan', 'nan', 'nan', 'nan', 'nan', 'nan', 'nan', 'nan', 'nan', 'nan', 'nan', 'nan', 'nan', 'nan'], ['herb & pepper', 'ground beef', 'eggs', 'whole wheat rice', 'cake', 'oil', 'fresh bread', 'low fat yogurt', 'nan', 'nan', 'nan', 'nan', 'nan', 'nan', 'nan', 'nan', 'nan', 'nan', 'nan', 'nan'], ['eggs', 'french fries', 'brownies', 'low fat yogurt', 'nan', 'nan', 'nan', 'nan', 'nan', 'nan', 'nan', 'nan', 'nan', 'nan', 'nan', 'nan', 'nan', 'nan', 'nan', 'nan'], ['yogurt cake', 'nan', 'nan', 'nan', 'nan', 'nan', 'nan', 'nan', 'nan', 'nan', 'nan', 'nan', 'nan', 'nan', 'nan', 'nan', 'nan', 'nan', 'nan', 'nan'], ['turkey', 'burgers', 'grated cheese', 'shrimp', 'pasta', 'spaghetti', 'mineral water', 'eggs', 'oil', 'chocolate', 'yogurt cake', 'zucchini', 'nan', 'nan', 'nan', 'nan', 'nan', 'nan', 'nan', 'nan'], ['herb & pepper', 'eggs', 'nan', 'nan', 'nan', 'nan', 'nan', 'nan', 'nan', 'nan', 'nan', 'nan', 'nan', 'nan', 'nan', 'nan', 'nan', 'nan', 'nan', 'nan'], ['whole wheat pasta', 'mineral water', 'light cream', 'chicken', 'french fries', 'nan', 'nan', 'nan', 'nan', 'nan', 'nan', 'nan', 'nan', 'nan', 'nan', 'nan', 'nan', 'nan', 'nan', 'nan'], ['french fries', 'pancakes', 'nan', 'nan', 'nan', 'nan', 'nan', 'nan', 'nan', 'nan', 'nan', 'nan', 'nan', 'nan', 'nan', 'nan', 'nan', 'nan', 'nan', 'nan'], ['mineral water', 'chocolate', 'nan', 'nan', 'nan', 'nan', 'nan', 'nan', 'nan', 'nan', 'nan', 'nan', 'nan', 'nan', 'nan', 'nan', 'nan', 'nan', 'nan', 'nan'], ['chocolate', 'grated cheese', 'mineral water', 'olive oil', 'green tea', 'nan', 'nan', 'nan', 'nan', 'nan', 'nan', 'nan', 'nan', 'nan', 'nan', 'nan', 'nan', 'nan', 'nan', 'nan'], ['whole wheat rice', 'cake', 'cottage cheese', 'nan', 'nan', 'nan', 'nan', 'nan', 'nan', 'nan', 'nan', 'nan', 'nan', 'nan', 'nan', 'nan', 'nan', 'nan', 'nan', 'nan'], ['turkey', 'shrimp', 'pasta', 'mineral water', 'chocolate', 'milk', 'salmon', 'vegetables mix', 'muffins', 'eggs', 'sparkling water', 'gluten free bar', 'nan', 'nan', 'nan', 'nan', 'nan', 'nan', 'nan', 'nan'], ['turkey', 'mineral water', 'cooking oil', 'chocolate', 'french fries', 'protein bar', 'nan', 'nan', 'nan', 'nan', 'nan', 'nan', 'nan', 'nan', 'nan', 'nan', 'nan', 'nan', 'nan', 'nan'], ['tomatoes', 'tomato sauce', 'spaghetti', 'mineral water', 'soup', 'olive oil', 'mashed potato', 'fresh bread', 'mayonnaise', 'green tea', 'nan', 'nan', 'nan', 'nan', 'nan', 'nan', 'nan', 'nan', 'nan', 'nan'], ['tomato juice', 'nan', 'nan', 'nan', 'nan', 'nan', 'nan', 'nan', 'nan', 'nan', 'nan', 'nan', 'nan', 'nan', 'nan', 'nan', 'nan', 'nan', 'nan', 'nan'], ['turkey', 'ground beef', 'mineral water', 'chocolate', 'soup', 'pancakes', 'whole wheat rice', 'light cream', 'carrots', 'mayonnaise', 'nan', 'nan', 'nan', 'nan', 'nan', 'nan', 'nan', 'nan', 'nan', 'nan'], ['shrimp', 'pasta', 'mineral water', 'olive oil', 'pancakes', 'bug spray', 'low fat yogurt', 'nan', 'nan', 'nan', 'nan', 'nan', 'nan', 'nan', 'nan', 'nan', 'nan', 'nan', 'nan', 'nan'], ['frozen vegetables', 'french wine', 'pancakes', 'french fries', 'champagne', 'strawberries', 'nan', 'nan', 'nan', 'nan', 'nan', 'nan', 'nan', 'nan', 'nan', 'nan', 'nan', 'nan', 'nan', 'nan'], ['chocolate', 'shrimp', 'pasta', 'spaghetti', 'nan', 'nan', 'nan', 'nan', 'nan', 'nan', 'nan', 'nan', 'nan', 'nan', 'nan', 'nan', 'nan', 'nan', 'nan', 'nan'], ['chocolate', 'nan', 'nan', 'nan', 'nan', 'nan', 'nan', 'nan', 'nan', 'nan', 'nan', 'nan', 'nan', 'nan', 'nan', 'nan', 'nan', 'nan', 'nan', 'nan'], ['fresh tuna', 'parmesan cheese', 'whole wheat pasta', 'french wine', 'fromage blanc', 'cottage cheese', 'brownies', 'salad', 'mint', 'green tea', 'nan', 'nan', 'nan', 'nan', 'nan', 'nan', 'nan', 'nan', 'nan', 'nan'], ['cookies', 'energy drink', 'nan', 'nan', 'nan', 'nan', 'nan', 'nan', 'nan', 'nan', 'nan', 'nan', 'nan', 'nan', 'nan', 'nan', 'nan', 'nan', 'nan', 'nan'], ['parmesan cheese', 'champagne', 'white wine', 'nan', 'nan', 'nan', 'nan', 'nan', 'nan', 'nan', 'nan', 'nan', 'nan', 'nan', 'nan', 'nan', 'nan', 'nan', 'nan', 'nan'], ['red wine', 'tomato sauce', 'spaghetti', 'chocolate', 'olive oil', 'french fries', 'salt', 'asparagus', 'nan', 'nan', 'nan', 'nan', 'nan', 'nan', 'nan', 'nan', 'nan', 'nan', 'nan', 'nan'], ['soup', 'milk', 'nan', 'nan', 'nan', 'nan', 'nan', 'nan', 'nan', 'nan', 'nan', 'nan', 'nan', 'nan', 'nan', 'nan', 'nan', 'nan', 'nan', 'nan'], ['eggs', 'whole wheat rice', 'nan', 'nan', 'nan', 'nan', 'nan', 'nan', 'nan', 'nan', 'nan', 'nan', 'nan', 'nan', 'nan', 'nan', 'nan', 'nan', 'nan', 'nan'], ['brownies', 'nan', 'nan', 'nan', 'nan', 'nan', 'nan', 'nan', 'nan', 'nan', 'nan', 'nan', 'nan', 'nan', 'nan', 'nan', 'nan', 'nan', 'nan', 'nan'], ['herb & pepper', 'spaghetti', 'low fat yogurt', 'nan', 'nan', 'nan', 'nan', 'nan', 'nan', 'nan', 'nan', 'nan', 'nan', 'nan', 'nan', 'nan', 'nan', 'nan', 'nan', 'nan'], ['herb & pepper', 'nan', 'nan', 'nan', 'nan', 'nan', 'nan', 'nan', 'nan', 'nan', 'nan', 'nan', 'nan', 'nan', 'nan', 'nan', 'nan', 'nan', 'nan', 'nan'], ['chocolate', 'escalope', 'nan', 'nan', 'nan', 'nan', 'nan', 'nan', 'nan', 'nan', 'nan', 'nan', 'nan', 'nan', 'nan', 'nan', 'nan', 'nan', 'nan', 'nan'], ['burgers', 'salmon', 'pancakes', 'french fries', 'frozen smoothie', 'fresh bread', 'mint', 'nan', 'nan', 'nan', 'nan', 'nan', 'nan', 'nan', 'nan', 'nan', 'nan', 'nan', 'nan', 'nan'], ['turkey', 'burgers', 'dessert wine', 'shrimp', 'pasta', 'tomatoes', 'pepper', 'milk', 'pancakes', 'whole wheat rice', 'oil', 'frozen smoothie', 'nan', 'nan', 'nan', 'nan', 'nan', 'nan', 'nan', 'nan'], ['pancakes', 'light mayo', 'nan', 'nan', 'nan', 'nan', 'nan', 'nan', 'nan', 'nan', 'nan', 'nan', 'nan', 'nan', 'nan', 'nan', 'nan', 'nan', 'nan', 'nan'], ['butter', 'light mayo', 'fresh bread', 'nan', 'nan', 'nan', 'nan', 'nan', 'nan', 'nan', 'nan', 'nan', 'nan', 'nan', 'nan', 'nan', 'nan', 'nan', 'nan', 'nan'], ['burgers', 'frozen vegetables', 'eggs', 'french fries', 'magazines', 'green tea', 'nan', 'nan', 'nan', 'nan', 'nan', 'nan', 'nan', 'nan', 'nan', 'nan', 'nan', 'nan', 'nan', 'nan'], ['chicken', 'nan', 'nan', 'nan', 'nan', 'nan', 'nan', 'nan', 'nan', 'nan', 'nan', 'nan', 'nan', 'nan', 'nan', 'nan', 'nan', 'nan', 'nan', 'nan'], ['escalope', 'green tea', 'nan', 'nan', 'nan', 'nan', 'nan', 'nan', 'nan', 'nan', 'nan', 'nan', 'nan', 'nan', 'nan', 'nan', 'nan', 'nan', 'nan', 'nan'], ['eggs', 'frozen smoothie', 'yogurt cake', 'low fat yogurt', 'nan', 'nan', 'nan', 'nan', 'nan', 'nan', 'nan', 'nan', 'nan', 'nan', 'nan', 'nan', 'nan', 'nan', 'nan', 'nan']]\n"
     ]
    }
   ],
   "source": [
    "records = []\n",
    "for i in range(0, 7501):\n",
    "    records.append([str(store_data.values[i,j]) for j in range(0, 20)])\n",
    "print(records)\n"
   ]
  },
  {
   "cell_type": "code",
   "execution_count": 78,
   "metadata": {},
   "outputs": [],
   "source": [
    "association_rules = apriori(records, min_support=0.0045, min_confidence=0.2, min_lift=3, min_length=2)\n",
    "association_results = list(association_rules)"
   ]
  },
  {
   "cell_type": "code",
   "execution_count": 79,
   "metadata": {
    "tags": []
   },
   "outputs": [
    {
     "output_type": "stream",
     "name": "stdout",
     "text": [
      "number of rules ->  48\nfrozenset({'light cream', 'chicken'})\nfrozenset({'mushroom cream sauce', 'escalope'})\nfrozenset({'pasta', 'escalope'})\nfrozenset({'ground beef', 'herb & pepper'})\nfrozenset({'tomato sauce', 'ground beef'})\nfrozenset({'olive oil', 'whole wheat pasta'})\nfrozenset({'pasta', 'shrimp'})\nfrozenset({'light cream', 'chicken', 'nan'})\nfrozenset({'shrimp', 'chocolate', 'frozen vegetables'})\nfrozenset({'ground beef', 'spaghetti', 'cooking oil'})\nfrozenset({'mushroom cream sauce', 'nan', 'escalope'})\nfrozenset({'pasta', 'nan', 'escalope'})\nfrozenset({'ground beef', 'spaghetti', 'frozen vegetables'})\nfrozenset({'milk', 'olive oil', 'frozen vegetables'})\nfrozenset({'mineral water', 'shrimp', 'frozen vegetables'})\nfrozenset({'spaghetti', 'olive oil', 'frozen vegetables'})\nfrozenset({'shrimp', 'spaghetti', 'frozen vegetables'})\nfrozenset({'tomatoes', 'spaghetti', 'frozen vegetables'})\nfrozenset({'grated cheese', 'ground beef', 'spaghetti'})\nfrozenset({'mineral water', 'ground beef', 'herb & pepper'})\nfrozenset({'ground beef', 'herb & pepper', 'nan'})\nfrozenset({'ground beef', 'spaghetti', 'herb & pepper'})\nfrozenset({'milk', 'ground beef', 'olive oil'})\nfrozenset({'tomato sauce', 'ground beef', 'nan'})\nfrozenset({'shrimp', 'ground beef', 'spaghetti'})\nfrozenset({'milk', 'spaghetti', 'olive oil'})\nfrozenset({'mineral water', 'olive oil', 'soup'})\nfrozenset({'olive oil', 'whole wheat pasta', 'nan'})\nfrozenset({'pasta', 'shrimp', 'nan'})\nfrozenset({'pancakes', 'spaghetti', 'olive oil'})\nfrozenset({'shrimp', 'chocolate', 'frozen vegetables', 'nan'})\nfrozenset({'ground beef', 'spaghetti', 'cooking oil', 'nan'})\nfrozenset({'ground beef', 'spaghetti', 'frozen vegetables', 'nan'})\nfrozenset({'mineral water', 'milk', 'spaghetti', 'frozen vegetables'})\nfrozenset({'milk', 'olive oil', 'frozen vegetables', 'nan'})\nfrozenset({'mineral water', 'shrimp', 'frozen vegetables', 'nan'})\nfrozenset({'spaghetti', 'olive oil', 'frozen vegetables', 'nan'})\nfrozenset({'shrimp', 'spaghetti', 'frozen vegetables', 'nan'})\nfrozenset({'tomatoes', 'spaghetti', 'frozen vegetables', 'nan'})\nfrozenset({'grated cheese', 'ground beef', 'spaghetti', 'nan'})\nfrozenset({'mineral water', 'ground beef', 'herb & pepper', 'nan'})\nfrozenset({'ground beef', 'spaghetti', 'herb & pepper', 'nan'})\nfrozenset({'milk', 'ground beef', 'olive oil', 'nan'})\nfrozenset({'shrimp', 'ground beef', 'spaghetti', 'nan'})\nfrozenset({'milk', 'spaghetti', 'olive oil', 'nan'})\nfrozenset({'mineral water', 'olive oil', 'soup', 'nan'})\nfrozenset({'pancakes', 'spaghetti', 'olive oil', 'nan'})\nfrozenset({'nan', 'frozen vegetables', 'milk', 'mineral water', 'spaghetti'})\n"
     ]
    }
   ],
   "source": [
    "print(\"number of rules -> \", len(association_results))\n",
    "# print(association_results)\n",
    "for x in association_results: \n",
    "    print(x[0])"
   ]
  },
  {
   "cell_type": "code",
   "execution_count": 80,
   "metadata": {},
   "outputs": [],
   "source": [
    "\n",
    "def formatRule(setREceived): \n",
    "    rule = ''\n",
    "    # print(setREceived)\n",
    "    for x in setREceived: \n",
    "        # print(x)\n",
    "        if str(x) != 'nan': \n",
    "            rule = rule + str(x) +', '\n",
    "    return rule[:-2]\n",
    "\n",
    "toDF = [] \n",
    "for item in association_results:\n",
    "    \n",
    "    # first index of the inner list\n",
    "    # Contains base item and add item\n",
    "\n",
    "    toDF.append([formatRule(item[0]), item[1], item[2][0][2],item[2][0][3]])\n",
    "    \n",
    "    # print(\"Rule: \" +  str(item[0]))\n",
    "\n",
    "    # #second index of the inner list\n",
    "    # print(\"Support: \" + str(item[1]))\n",
    "\n",
    "    # #third index of the list located at 0th\n",
    "    # #of the third index of the inner list\n",
    "\n",
    "    # print(\"Confidence: \" + str(item[2][0][2]))\n",
    "    # print(\"Lift: \" + str(item[2][0][3]))\n",
    "    # print(\"=====================================\")\n",
    "\n",
    "# print(toDF)\n",
    "df = pd.DataFrame(np.array(toDF), columns=['rule', 'Support', 'Confidence', 'Lift']) \n",
    "df_unique = df.drop_duplicates(subset=\"rule\")"
   ]
  },
  {
   "cell_type": "code",
   "execution_count": 81,
   "metadata": {},
   "outputs": [],
   "source": [
    "df_unique.to_csv('data/rules.csv', index=False)"
   ]
  },
  {
   "cell_type": "code",
   "execution_count": null,
   "metadata": {},
   "outputs": [],
   "source": []
  }
 ]
}